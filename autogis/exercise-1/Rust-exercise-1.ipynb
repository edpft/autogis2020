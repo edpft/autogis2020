{
 "cells": [
  {
   "cell_type": "markdown",
   "id": "b6fd1217-2bfb-44ed-a137-956359f2a1b1",
   "metadata": {},
   "source": [
    "# Exercise 1"
   ]
  },
  {
   "cell_type": "markdown",
   "id": "8045a6ad-a5be-4b81-be05-a9dfb034c677",
   "metadata": {},
   "source": [
    "## Problem 1: Creating basic geometries (5 points)"
   ]
  },
  {
   "cell_type": "markdown",
   "id": "7f4db044-e218-4bf3-8752-5cfcc039995f",
   "metadata": {},
   "source": [
    "In this problem you will create custom-made functions for creating geometries. We start with a very simple function, and proceed to creating functions that can handle invalid input values."
   ]
  },
  {
   "cell_type": "markdown",
   "id": "8d7ea1ce-d55d-4ea9-888c-bc05a0170040",
   "metadata": {},
   "source": [
    "### Part 1"
   ]
  },
  {
   "cell_type": "markdown",
   "id": "3987824a-f4c5-42f1-adce-462ef099f82a",
   "metadata": {},
   "source": [
    "Create a function called create_point_geom() that has two parameters (x_coord, y_coord). Function should create an instance of the Point type and return that."
   ]
  },
  {
   "cell_type": "markdown",
   "id": "6c504616-d06c-4657-ad6a-c02ae3e411de",
   "metadata": {},
   "source": [
    "#### Solution"
   ]
  },
  {
   "cell_type": "markdown",
   "id": "50e0851e-a93d-4091-8cf0-73591cd908f6",
   "metadata": {},
   "source": [
    "Load the `geo` crate"
   ]
  },
  {
   "cell_type": "code",
   "execution_count": 4,
   "id": "12160e8a-07d0-4b00-8aec-b99b3001855e",
   "metadata": {},
   "outputs": [],
   "source": [
    ":dep geo"
   ]
  },
  {
   "cell_type": "markdown",
   "id": "b8b99f77-c08a-401d-8dd8-8d31e6062022",
   "metadata": {},
   "source": [
    "Define function"
   ]
  },
  {
   "cell_type": "code",
   "execution_count": 7,
   "id": "1e307004-7caa-4584-b7f3-4a4a31b18df5",
   "metadata": {},
   "outputs": [],
   "source": [
    "use geo::Point;\n",
    "\n",
    "fn create_point_geom(x_coord: f64, y_coord: f64) -> Point<f64> {\n",
    "    Point::new(x_coord, y_coord)\n",
    "};"
   ]
  },
  {
   "cell_type": "markdown",
   "id": "cd4dd5ea-9632-4d4c-9cea-69c049d83f17",
   "metadata": {},
   "source": [
    "Use function to assign value to variable"
   ]
  },
  {
   "cell_type": "code",
   "execution_count": 9,
   "id": "ba17fcb1-5495-42d4-b956-4c13d937c409",
   "metadata": {},
   "outputs": [],
   "source": [
    "let point = create_point_geom(1.2, 3.4);"
   ]
  },
  {
   "cell_type": "markdown",
   "id": "78ff99a0-80c6-4b40-b033-dcfac4f0f5f9",
   "metadata": {},
   "source": [
    "Print variable"
   ]
  },
  {
   "cell_type": "code",
   "execution_count": 11,
   "id": "473216d8-baae-47e4-b50f-2c3b1eaeb31a",
   "metadata": {},
   "outputs": [
    {
     "name": "stdout",
     "output_type": "stream",
     "text": [
      "Point(Coordinate { x: 1.2, y: 3.4 })\n"
     ]
    },
    {
     "data": {
      "text/plain": [
       "()"
      ]
     },
     "execution_count": 11,
     "metadata": {},
     "output_type": "execute_result"
    }
   ],
   "source": [
    "println!(\"{:?}\", point)"
   ]
  },
  {
   "cell_type": "markdown",
   "id": "26e62029-c8ee-4825-aa6c-d89855ef242a",
   "metadata": {},
   "source": [
    "### Part 2"
   ]
  },
  {
   "cell_type": "markdown",
   "id": "65cfdf50-3d63-4a20-bd63-676c5f5e4153",
   "metadata": {},
   "source": [
    "Create a function called **`create_line_geom()`** that takes an vector of coordinates as parameter called **`points`** and returns a LineString type. In addition, you should take care that the function is used as it should:\n",
    "\n",
    "  - Inside the function, you should first check with `assert` -functionality that the input is a **list** (see [lesson 6 from the Geo-Python course](https://geo-python.github.io/site/lessons/L6/interpreting-errors.html#assertions) and [hints for this exercise](https://automating-gis-processes.github.io/site/develop/lessons/L1/exercise-1.html#hints)). If something else than a list is passed for the function, you should return an Error message: `\"Input should be a list!\"`\n",
    "  - You should also check with `assert` that the input list contains **at least** two values. If not, return an Error message: `\"LineString object requires at least two Points!\"`\n",
    "  - Optional: Finally, you should check with `assert` that all values in the input list are truly Shapely Points. If not, return an Error message: `\"All list values should be Shapely Point objects!\"`"
   ]
  },
  {
   "cell_type": "code",
   "execution_count": 26,
   "id": "86ef4737-5de2-444e-a81c-88f71c902992",
   "metadata": {},
   "outputs": [
    {
     "name": "stdout",
     "output_type": "stream",
     "text": [
      "LineString([Coordinate { x: 0.0, y: 1.0 }, Coordinate { x: 2.0, y: 3.0 }])\n"
     ]
    },
    {
     "data": {
      "text/plain": [
       "()"
      ]
     },
     "execution_count": 26,
     "metadata": {},
     "output_type": "execute_result"
    }
   ],
   "source": [
    "use geo::LineString;\n",
    "\n",
    "fn create_line_geom(points: Vec<Coordinate<f64>>) -> LineString<f64> {\n",
    "    LineString(points)\n",
    "}\n",
    "\n",
    "let points = vec![\n",
    "    Coordinate { x: 0., y: 1. },\n",
    "    Coordinate { x: 2., y: 3. },\n",
    "];\n",
    "\n",
    "let line_string = create_line_geom(points);\n",
    "\n",
    "println!(\"{:?}\", line_string)\n"
   ]
  },
  {
   "cell_type": "markdown",
   "id": "d6577d8c-6fb1-49a6-b932-fd37df36299f",
   "metadata": {},
   "source": [
    "### Part 3"
   ]
  },
  {
   "cell_type": "markdown",
   "id": "9b8d5e79-b1f5-4617-b363-ac045b254869",
   "metadata": {},
   "source": [
    "Create a function called **`create_poly_geom()`** that has one parameter called **`coords`**. `coords` parameter should containt **a list of coordinate tuples**. The function should create and return a Polygon object based on these coordinates.  \n",
    "\n",
    "  - Inside the function, you should first check with `assert` -functionality that the input is a **list** (see [lesson 6](https://geo-python.github.io/site/lessons/L6/interpreting-errors.html#assertions) and [hints](https://automating-gis-processes.github.io/site/develop/lessons/L1/exercise-1.html#hints)). If something else than a list is passed for the function, you should return an Error message: `\"Input should be a list!\"`\n",
    "  - You should also check with `assert` that the input list contains **at least** three values. If not, return an Error message: `\"Polygon object requires at least three Points!\"`\n",
    "  - Check the data type of the objects in the input list. All values in the input list should be tuples. If not, return an error message: \"All list values should be coordinate tuples!\" using assert.\n",
    "  - **Optional:** Allow also an input containing a list of Shapely Point objects. If `coords` contains a list of Shapely Point objects, return a polygon based on these points. If the input is neither a list of tuples, nor a list of Points, return an appropriate error message using assert."
   ]
  },
  {
   "cell_type": "code",
   "execution_count": 33,
   "id": "f7c27419-0bb4-4314-87f3-41ab55b4515c",
   "metadata": {},
   "outputs": [
    {
     "name": "stdout",
     "output_type": "stream",
     "text": [
      "Polygon { exterior: LineString([Coordinate { x: 0.0, y: 1.0 }, Coordinate { x: 2.0, y: 3.0 }, Coordinate { x: 4.0, y: 5.0 }, Coordinate { x: 0.0, y: 1.0 }]), interiors: [] }\n"
     ]
    },
    {
     "data": {
      "text/plain": [
       "()"
      ]
     },
     "execution_count": 33,
     "metadata": {},
     "output_type": "execute_result"
    }
   ],
   "source": [
    "use geo::Polygon;\n",
    "\n",
    "fn create_line_geom(points: Vec<Coordinate<f64>>) -> LineString<f64> {\n",
    "    LineString(points)\n",
    "}\n",
    "\n",
    "fn create_poly_geom(coords: Vec<Coordinate<f64>>) -> Polygon<f64> {\n",
    "    let line_string = create_line_geom(coords);\n",
    "    Polygon::new(\n",
    "        line_string,\n",
    "        vec![],\n",
    "    )\n",
    "}\n",
    "\n",
    "let coords = vec![\n",
    "    Coordinate { x: 0., y: 1. },\n",
    "    Coordinate { x: 2., y: 3. },\n",
    "    Coordinate { x: 4., y: 5. },\n",
    "];\n",
    "\n",
    "let polygon = create_poly_geom(coords);\n",
    "\n",
    "println!(\"{:?}\", polygon)"
   ]
  },
  {
   "cell_type": "code",
   "execution_count": null,
   "id": "fd866562-df33-46b1-84e9-8a3d7eb7ed3d",
   "metadata": {},
   "outputs": [],
   "source": []
  }
 ],
 "metadata": {
  "kernelspec": {
   "display_name": "Rust",
   "language": "rust",
   "name": "rust"
  },
  "language_info": {
   "codemirror_mode": "rust",
   "file_extension": ".rs",
   "mimetype": "text/rust",
   "name": "Rust",
   "pygment_lexer": "rust",
   "version": ""
  }
 },
 "nbformat": 4,
 "nbformat_minor": 5
}
